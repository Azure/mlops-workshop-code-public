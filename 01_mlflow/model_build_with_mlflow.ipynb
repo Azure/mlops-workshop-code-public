{
  "cells": [
    {
      "cell_type": "code",
      "source": [
        "import os\n",
        "from dotenv import load_dotenv\n",
        "import mlflow\n",
        "from azure.ai.ml import MLClient\n",
        "from azure.identity import DefaultAzureCredential\n",
        "\n",
        "load_dotenv()\n",
        "\n",
        "subscription_id = os.environ.get(\"SUBSCRIPTION_ID\")\n",
        "resource_group = os.environ.get(\"RESOURCE_GROUP\")\n",
        "workspace = os.environ.get(\"AML_WORKSPACE_NAME\")\n",
        "\n",
        "ml_client = MLClient(\n",
        "    DefaultAzureCredential(),\n",
        "    subscription_id,\n",
        "    resource_group,\n",
        "    workspace,\n",
        ")\n",
        "\n",
        "azureml_mlflow_uri = ml_client.workspaces.get(\n",
        "    ml_client.workspace_name\n",
        ").mlflow_tracking_uri\n",
        "\n",
        "mlflow.set_tracking_uri(azureml_mlflow_uri)"
      ],
      "outputs": [],
      "execution_count": null,
      "metadata": {
        "gather": {
          "logged": 1677748807834
        }
      }
    },
    {
      "cell_type": "markdown",
      "source": [
        "# Import package"
      ],
      "metadata": {
        "id": "AHW5mJEMNcGp"
      }
    },
    {
      "cell_type": "code",
      "source": [
        "import pandas as pd\n",
        "import numpy as np\n",
        "import pickle\n",
        "\n",
        "from sklearn.metrics import mean_squared_error\n",
        "\n",
        "from sklearn.linear_model import LinearRegression"
      ],
      "outputs": [],
      "execution_count": null,
      "metadata": {
        "executionInfo": {
          "elapsed": 388,
          "status": "ok",
          "timestamp": 1636614599286,
          "user": {
            "displayName": "李万宇",
            "photoUrl": "https://lh3.googleusercontent.com/a-/AOh14GgL6QlaaH1MxPrzoHKA3ag6tqpBKrPo0E9vJxYj4g=s64",
            "userId": "01804867656979680118"
          },
          "user_tz": -540
        },
        "gather": {
          "logged": 1677748812270
        },
        "id": "AHYyZaqQNXQ6"
      }
    },
    {
      "cell_type": "markdown",
      "source": [
        "# Load train/dev data"
      ],
      "metadata": {
        "id": "gmOp2uiINTjR"
      }
    },
    {
      "cell_type": "code",
      "source": [
        "df_train = pd.read_csv(\"../data/nyc_taxi_dataset_train.csv\")\n",
        "df_valid = pd.read_csv(\"../data/nyc_taxi_dataset_valid.csv\")\n",
        "df_train.head()"
      ],
      "outputs": [],
      "execution_count": null,
      "metadata": {
        "gather": {
          "logged": 1677748813161
        },
        "jupyter": {
          "outputs_hidden": false,
          "source_hidden": false
        },
        "nteract": {
          "transient": {
            "deleting": false
          }
        }
      }
    },
    {
      "cell_type": "markdown",
      "source": [
        "# Trim the features"
      ],
      "metadata": {
        "id": "7IoTiB9VPxD7"
      }
    },
    {
      "cell_type": "code",
      "source": [
        "col_target = \"totalAmount\""
      ],
      "outputs": [],
      "execution_count": null,
      "metadata": {
        "executionInfo": {
          "elapsed": 327,
          "status": "ok",
          "timestamp": 1636614679124,
          "user": {
            "displayName": "李万宇",
            "photoUrl": "https://lh3.googleusercontent.com/a-/AOh14GgL6QlaaH1MxPrzoHKA3ag6tqpBKrPo0E9vJxYj4g=s64",
            "userId": "01804867656979680118"
          },
          "user_tz": -540
        },
        "gather": {
          "logged": 1677748813624
        },
        "id": "55wYxBGrQ9H6"
      }
    },
    {
      "cell_type": "code",
      "source": [
        "X_train = df_train.drop(columns=col_target)\n",
        "y_train = df_train[col_target].to_numpy().ravel()\n",
        "\n",
        "X_valid = df_valid.drop(columns=col_target)\n",
        "y_valid = df_valid[col_target].to_numpy().ravel()"
      ],
      "outputs": [],
      "execution_count": null,
      "metadata": {
        "gather": {
          "logged": 1677748814062
        },
        "jupyter": {
          "outputs_hidden": false,
          "source_hidden": false
        },
        "nteract": {
          "transient": {
            "deleting": false
          }
        }
      }
    },
    {
      "cell_type": "markdown",
      "source": [
        "# Build the model"
      ],
      "metadata": {
        "nteract": {
          "transient": {
            "deleting": false
          }
        }
      }
    },
    {
      "cell_type": "code",
      "source": [
        "experiment_name = \"mlow_nyc_taxi_regression_notebook\"\n",
        "mlflow.set_experiment(experiment_name)"
      ],
      "outputs": [],
      "execution_count": null,
      "metadata": {
        "gather": {
          "logged": 1677748815502
        }
      }
    },
    {
      "cell_type": "code",
      "source": [
        "run = mlflow.start_run()"
      ],
      "outputs": [],
      "execution_count": null,
      "metadata": {
        "gather": {
          "logged": 1677748815854
        }
      }
    },
    {
      "cell_type": "code",
      "source": [
        "model = LinearRegression().fit(\n",
        "    X_train, y_train\n",
        ")"
      ],
      "outputs": [],
      "execution_count": null,
      "metadata": {
        "gather": {
          "logged": 1677748823819
        },
        "jupyter": {
          "outputs_hidden": false,
          "source_hidden": false
        },
        "nteract": {
          "transient": {
            "deleting": false
          }
        }
      }
    },
    {
      "cell_type": "code",
      "source": [
        "def rmse(validation, target):\n",
        "    return np.sqrt(mean_squared_error(validation, target))"
      ],
      "outputs": [],
      "execution_count": null,
      "metadata": {
        "gather": {
          "logged": 1677748823943
        }
      }
    },
    {
      "cell_type": "code",
      "source": [
        "preds = model.predict(X_train)\n",
        "train_rmse = rmse(df_train[col_target], preds)\n",
        "print(train_rmse)\n",
        "mlflow.log_metric(\"train_RMSE\", train_rmse)"
      ],
      "outputs": [],
      "execution_count": null,
      "metadata": {
        "gather": {
          "logged": 1677748824490
        },
        "jupyter": {
          "outputs_hidden": false,
          "source_hidden": false
        },
        "nteract": {
          "transient": {
            "deleting": false
          }
        }
      }
    },
    {
      "cell_type": "code",
      "source": [
        "preds = model.predict(X_valid)\n",
        "valid_rmse = rmse(df_valid[col_target], preds)\n",
        "print(valid_rmse)\n",
        "mlflow.log_metric(\"valid_RMSE\", valid_rmse)"
      ],
      "outputs": [],
      "execution_count": null,
      "metadata": {
        "gather": {
          "logged": 1677748825175
        },
        "jupyter": {
          "outputs_hidden": false,
          "source_hidden": false
        },
        "nteract": {
          "transient": {
            "deleting": false
          }
        }
      }
    },
    {
      "cell_type": "markdown",
      "source": [
        "# Save the model"
      ],
      "metadata": {
        "nteract": {
          "transient": {
            "deleting": false
          }
        }
      }
    },
    {
      "cell_type": "code",
      "source": [
        "model_name = \"sklearn-model\"\n",
        "local_path = f\"./{model_name}\"\n",
        "mlflow.sklearn.save_model(sk_model=model, path=local_path)"
      ],
      "outputs": [],
      "execution_count": null,
      "metadata": {
        "gather": {
          "logged": 1677748842478
        },
        "jupyter": {
          "outputs_hidden": false,
          "source_hidden": false
        },
        "nteract": {
          "transient": {
            "deleting": false
          }
        }
      }
    },
    {
      "cell_type": "code",
      "source": [
        "mlflow.sklearn.log_model(\r\n",
        "    sk_model=model,\r\n",
        "    registered_model_name=model_name,\r\n",
        "    artifact_path=model_name,\r\n",
        ")"
      ],
      "outputs": [],
      "execution_count": null,
      "metadata": {
        "jupyter": {
          "source_hidden": false,
          "outputs_hidden": false
        },
        "nteract": {
          "transient": {
            "deleting": false
          }
        },
        "gather": {
          "logged": 1677748846861
        }
      }
    },
    {
      "cell_type": "code",
      "source": [
        "mlflow.end_run()"
      ],
      "outputs": [],
      "execution_count": null,
      "metadata": {
        "gather": {
          "logged": 1677748846991
        }
      }
    },
    {
      "cell_type": "code",
      "source": [],
      "outputs": [],
      "execution_count": null,
      "metadata": {}
    }
  ],
  "metadata": {
    "colab": {
      "authorship_tag": "ABX9TyPb+eRpM2iB0aNljFjcfHb1",
      "collapsed_sections": [],
      "name": "Prediction.ipynb",
      "provenance": [],
      "toc_visible": true
    },
    "kernel_info": {
      "name": "mlops-workshop-env"
    },
    "kernelspec": {
      "name": "mlops-workshop-env",
      "language": "python",
      "display_name": "mlops-workshop-env"
    },
    "language_info": {
      "name": "python",
      "version": "3.10.4",
      "mimetype": "text/x-python",
      "codemirror_mode": {
        "name": "ipython",
        "version": 3
      },
      "pygments_lexer": "ipython3",
      "nbconvert_exporter": "python",
      "file_extension": ".py"
    },
    "microsoft": {
      "host": {
        "AzureML": {
          "notebookHasBeenCompleted": true
        }
      }
    },
    "nteract": {
      "version": "nteract-front-end@1.0.0"
    },
    "vscode": {
      "interpreter": {
        "hash": "5eb98d59e4c59396fef2af5f6dfee2d59c26df76c0e5d1b9cac14e208e8ff5df"
      }
    }
  },
  "nbformat": 4,
  "nbformat_minor": 0
}